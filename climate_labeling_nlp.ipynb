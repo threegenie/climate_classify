{
  "nbformat": 4,
  "nbformat_minor": 0,
  "metadata": {
    "colab": {
      "name": "climate_labeling_nlp.ipynb",
      "provenance": [],
      "machine_shape": "hm",
      "authorship_tag": "ABX9TyOzKqZoOo85A2zjR6SuQwy4",
      "include_colab_link": true
    },
    "kernelspec": {
      "name": "python3",
      "display_name": "Python 3"
    },
    "language_info": {
      "name": "python"
    },
    "accelerator": "TPU"
  },
  "cells": [
    {
      "cell_type": "markdown",
      "metadata": {
        "id": "view-in-github",
        "colab_type": "text"
      },
      "source": [
        "<a href=\"https://colab.research.google.com/github/threegenie/climate_classify/blob/main/climate_labeling_nlp.ipynb\" target=\"_parent\"><img src=\"https://colab.research.google.com/assets/colab-badge.svg\" alt=\"Open In Colab\"/></a>"
      ]
    },
    {
      "cell_type": "code",
      "metadata": {
        "id": "8eZEeeFm4TlE"
      },
      "source": [
        "%%capture\n",
        "! pip install konlpy"
      ],
      "execution_count": null,
      "outputs": []
    },
    {
      "cell_type": "code",
      "metadata": {
        "id": "in77dleh40cd"
      },
      "source": [
        "%%capture\n",
        "!sudo apt-get install -y fonts-nanum\n",
        "!sudo fc-cache -fv\n",
        "!rm ~/.cache/matplotlib -rf"
      ],
      "execution_count": null,
      "outputs": []
    },
    {
      "cell_type": "code",
      "metadata": {
        "id": "35w_X3dT434_"
      },
      "source": [
        "import matplotlib as mpl\n",
        "import matplotlib.pyplot as plt\n",
        "%config InlineBackend.figure_format = 'retina'\n",
        " \n",
        "!apt -qq -y install fonts-nanum\n",
        " \n",
        "import matplotlib.font_manager as fm\n",
        "fontpath = '/usr/share/fonts/truetype/nanum/NanumBarunGothic.ttf'\n",
        "font = fm.FontProperties(fname=fontpath, size=9)\n",
        "plt.rc('font', family='NanumBarunGothic') "
      ],
      "execution_count": null,
      "outputs": []
    },
    {
      "cell_type": "code",
      "metadata": {
        "id": "_ciJjGUx46SL"
      },
      "source": [
        "import pandas as pd\n",
        "import numpy as np\n",
        "import matplotlib.pyplot as plt\n",
        "import seaborn as sns\n",
        "import re\n",
        "import json\n",
        "import os\n",
        "import tqdm\n",
        "import urllib.request\n",
        "from collections import Counter\n",
        "from sklearn.model_selection import train_test_split\n",
        "from tensorflow.keras.preprocessing.text import Tokenizer\n",
        "from tensorflow.keras.preprocessing.sequence import pad_sequences\n",
        "from sklearn.metrics import log_loss, accuracy_score,f1_score\n",
        "import tensorflow as tf\n",
        "from tensorflow.keras.callbacks import EarlyStopping, ModelCheckpoint"
      ],
      "execution_count": null,
      "outputs": []
    },
    {
      "cell_type": "code",
      "metadata": {
        "id": "Dg2kqOiO47DP"
      },
      "source": [
        "# 오류(SettingWithCopyError 발생)\n",
        "pd.set_option('mode.chained_assignment', 'raise') # SettingWithCopyError\n",
        "\n",
        "# 경고(SettingWithCopyWarning 발생, 기본 값입니다)\n",
        "pd.set_option('mode.chained_assignment', 'warn') # SettingWithCopyWarning\n",
        "\n",
        "# 무시\n",
        "pd.set_option('mode.chained_assignment',  None) # <==== 경고를 끈다"
      ],
      "execution_count": null,
      "outputs": []
    },
    {
      "cell_type": "markdown",
      "metadata": {
        "id": "w-LgGF-H5xt_"
      },
      "source": [
        "#### 데이터 업로드"
      ]
    },
    {
      "cell_type": "code",
      "metadata": {
        "id": "Wz0nizfc5z6S"
      },
      "source": [
        "import os\n",
        "from google.colab import drive\n",
        "\n",
        "drive.mount('/content/drive')\n",
        "df = pd.read_csv('/content/drive/My Drive/open/train.csv')\n",
        "test = pd.read_csv('/content/drive/My Drive/open/test.csv')\n",
        "label = pd.read_csv('/content/drive/My Drive/open/labels_mapping.csv')"
      ],
      "execution_count": null,
      "outputs": []
    },
    {
      "cell_type": "code",
      "metadata": {
        "id": "9cqCy0tX6Gg8"
      },
      "source": [
        "df.head()"
      ],
      "execution_count": null,
      "outputs": []
    },
    {
      "cell_type": "code",
      "metadata": {
        "id": "2gw9um766Htk"
      },
      "source": [
        "label.head()"
      ],
      "execution_count": null,
      "outputs": []
    },
    {
      "cell_type": "code",
      "metadata": {
        "id": "_LEZ8wUaA9OF"
      },
      "source": [
        "# # 결측값 처리\n",
        "# df = df.fillna('내용없음')\n",
        "# test = test.fillna('내용없음')"
      ],
      "execution_count": null,
      "outputs": []
    },
    {
      "cell_type": "code",
      "metadata": {
        "id": "kRlsvp7DBLdL"
      },
      "source": [
        "df.info()"
      ],
      "execution_count": null,
      "outputs": []
    },
    {
      "cell_type": "code",
      "metadata": {
        "id": "_g7P44q7BQNT"
      },
      "source": [
        "test.info()"
      ],
      "execution_count": null,
      "outputs": []
    },
    {
      "cell_type": "markdown",
      "metadata": {
        "id": "h12HHKDfBTTh"
      },
      "source": [
        "#### 필요한 특성만 남기기"
      ]
    },
    {
      "cell_type": "code",
      "metadata": {
        "id": "bBEUvqIr-zl-"
      },
      "source": [
        "df = df[['index', '요약문_연구목표','요약문_연구내용','요약문_한글키워드']]"
      ],
      "execution_count": null,
      "outputs": []
    },
    {
      "cell_type": "code",
      "metadata": {
        "id": "OPWRRewf_JjR"
      },
      "source": [
        "test = test[['index', '요약문_연구목표','요약문_연구내용','요약문_한글키워드']]"
      ],
      "execution_count": null,
      "outputs": []
    },
    {
      "cell_type": "markdown",
      "metadata": {
        "id": "lX-A5PaW9m_n"
      },
      "source": [
        "#### 데이터 정제 - 훈련, 테스트셋에 모두 적용 -> 정규표현식 사용하여 한글 제외 모두 제거"
      ]
    },
    {
      "cell_type": "code",
      "metadata": {
        "id": "xqZDVJjS9v66"
      },
      "source": [
        "# df['요약문_연구목표'] = df['요약문_연구목표'].str.replace(\"[^ㄱ-ㅎㅏ-ㅣ가-힣 ]\",\"\")\n",
        "# df['요약문_연구목표'].replace('', np.nan, inplace=True)\n",
        "\n",
        "# df['요약문_연구내용'] = df['요약문_연구내용'].str.replace(\"[^ㄱ-ㅎㅏ-ㅣ가-힣 ]\",\"\")\n",
        "# df['요약문_연구내용'].replace('', np.nan, inplace=True)\n",
        "\n",
        "# df['요약문_한글키워드'] = df['요약문_한글키워드'].str.replace(\"[^ㄱ-ㅎㅏ-ㅣ가-힣 ]\",\"\")\n",
        "# df['요약문_한글키워드'].replace('', np.nan, inplace=True)"
      ],
      "execution_count": null,
      "outputs": []
    },
    {
      "cell_type": "code",
      "metadata": {
        "id": "lV43aj8t-tc8"
      },
      "source": [
        "# test['요약문_연구목표'] = test['요약문_연구목표'].str.replace(\"[^ㄱ-ㅎㅏ-ㅣ가-힣 ]\",\"\")\n",
        "# test['요약문_연구목표'].replace('', np.nan, inplace=True)\n",
        "\n",
        "# test['요약문_연구내용'] = test['요약문_연구내용'].str.replace(\"[^ㄱ-ㅎㅏ-ㅣ가-힣 ]\",\"\")\n",
        "# test['요약문_연구내용'].replace('', np.nan, inplace=True)\n",
        "\n",
        "# test['요약문_한글키워드'] = test['요약문_한글키워드'].str.replace(\"[^ㄱ-ㅎㅏ-ㅣ가-힣 ]\",\"\")\n",
        "# test['요약문_한글키워드'].replace('', np.nan, inplace=True)"
      ],
      "execution_count": null,
      "outputs": []
    },
    {
      "cell_type": "code",
      "metadata": {
        "id": "b8w33ORx_Uxf"
      },
      "source": [
        "# df.head()"
      ],
      "execution_count": null,
      "outputs": []
    },
    {
      "cell_type": "code",
      "metadata": {
        "id": "TouCz5ZD_WT6"
      },
      "source": [
        "# test.head()"
      ],
      "execution_count": null,
      "outputs": []
    },
    {
      "cell_type": "markdown",
      "metadata": {
        "id": "gptqQB2k_ZZA"
      },
      "source": [
        "#### 토큰화, 전처리"
      ]
    },
    {
      "cell_type": "code",
      "metadata": {
        "id": "7Zx9gutK_bL3"
      },
      "source": [
        "from konlpy.tag import Okt\n",
        "okt = Okt()"
      ],
      "execution_count": null,
      "outputs": []
    },
    {
      "cell_type": "code",
      "metadata": {
        "id": "qodQy8GjIn8H"
      },
      "source": [
        "from konlpy.tag import Komoran\n",
        "komoran = Komoran()"
      ],
      "execution_count": null,
      "outputs": []
    },
    {
      "cell_type": "code",
      "metadata": {
        "id": "4GKWw45HAaQT"
      },
      "source": [
        "stop_words=['은','는','이','가', '하','아','것','들','의','있','되','수','보','주','등','한']"
      ],
      "execution_count": null,
      "outputs": []
    },
    {
      "cell_type": "code",
      "metadata": {
        "id": "ypC3WiEVE5TD"
      },
      "source": [
        "# df['연구목표_T'] = None\n",
        "# df['연구내용_T'] = None\n",
        "# df['한글키워드_T'] = None"
      ],
      "execution_count": null,
      "outputs": []
    },
    {
      "cell_type": "code",
      "metadata": {
        "id": "n1vgRBmwM8JH"
      },
      "source": [
        "# test['연구목표_T'] = None\n",
        "# test['연구내용_T'] = None\n",
        "# test['한글키워드_T'] = None"
      ],
      "execution_count": null,
      "outputs": []
    },
    {
      "cell_type": "code",
      "metadata": {
        "id": "BhITR8xdMw_5"
      },
      "source": [
        "def preprocessing(text, okt, remove_stopwords=False, stop_words=[]):\n",
        "  text=re.sub(\"[^가-힣ㄱ-ㅎㅏ-ㅣ]\",\"\", text) \n",
        "  word_text=okt.morphs(text, stem=True)\n",
        "  if remove_stopwords:\n",
        "    word_review=[token for token in word_text if not token in stop_words]\n",
        "  return word_review"
      ],
      "execution_count": null,
      "outputs": []
    },
    {
      "cell_type": "code",
      "metadata": {
        "id": "b00s7w_33o29"
      },
      "source": [
        "aim_train_text = []\n",
        "aim_test_text = []\n",
        "\n",
        "content_train_text = []\n",
        "content_test_text = []\n",
        "\n",
        "key_train_text = []\n",
        "key_test_text = []"
      ],
      "execution_count": null,
      "outputs": []
    },
    {
      "cell_type": "code",
      "metadata": {
        "id": "A5WO0PQnM4Cl"
      },
      "source": [
        "for text in tqdm.tqdm(df['요약문_연구목표']):\n",
        "    try:\n",
        "        aim_train_text.append(preprocessing(text, okt, remove_stopwords=True, stop_words=stop_words))\n",
        "    except:\n",
        "        aim_train_text.append([])"
      ],
      "execution_count": null,
      "outputs": []
    },
    {
      "cell_type": "code",
      "metadata": {
        "id": "ZqyPZXzp5YEl"
      },
      "source": [
        "aim_train_text"
      ],
      "execution_count": null,
      "outputs": []
    },
    {
      "cell_type": "code",
      "metadata": {
        "id": "n7bh1oNgNsEj"
      },
      "source": [
        "for text in tqdm.tqdm(df['요약문_연구내용']):\n",
        "    try:\n",
        "        content_train_text.append(preprocessing(text, okt, remove_stopwords=True, stop_words=stop_words))\n",
        "    except:\n",
        "        content_train_text.append([])"
      ],
      "execution_count": null,
      "outputs": []
    },
    {
      "cell_type": "code",
      "metadata": {
        "id": "3wi3ddGdNuvf"
      },
      "source": [
        "for text in tqdm.tqdm(df['요약문_한글키워드']):\n",
        "    try:\n",
        "        key_train_text.append(preprocessing(text, okt, remove_stopwords=True, stop_words=stop_words))\n",
        "    except:\n",
        "        key_train_text.append([])"
      ],
      "execution_count": null,
      "outputs": []
    },
    {
      "cell_type": "code",
      "metadata": {
        "id": "kefd4qobNyoj"
      },
      "source": [
        "for text in tqdm.tqdm(test['요약문_연구목표']):\n",
        "    try:\n",
        "        aim_test_text.append(preprocessing(text, okt, remove_stopwords=True, stop_words=stop_words))\n",
        "    except:\n",
        "        aim_test_text.append([])"
      ],
      "execution_count": null,
      "outputs": []
    },
    {
      "cell_type": "code",
      "metadata": {
        "id": "UXVB0sjNNyok"
      },
      "source": [
        "for text in tqdm.tqdm(test['요약문_연구내용']):\n",
        "    try:\n",
        "        content_test_text.append(preprocessing(text, okt, remove_stopwords=True, stop_words=stop_words))\n",
        "    except:\n",
        "        content_test_text.append([])"
      ],
      "execution_count": null,
      "outputs": []
    },
    {
      "cell_type": "code",
      "metadata": {
        "id": "gcSYrJUKNyok"
      },
      "source": [
        "for text in tqdm.tqdm(test['요약문_한글키워드']):\n",
        "    try:\n",
        "        key_test_text.append(preprocessing(text, okt, remove_stopwords=True, stop_words=stop_words))\n",
        "    except:\n",
        "        key_test_text.append([])"
      ],
      "execution_count": null,
      "outputs": []
    },
    {
      "cell_type": "code",
      "metadata": {
        "id": "FtgOgfSR_fE7"
      },
      "source": [
        "# df['연구목표_T'] = df['요약문_연구목표'].apply(okt.morphs)\n",
        "# df['연구목표_T'] = df['요약문_연구목표'].apply(lambda x: [item for item in x if item not in stop_words])\n",
        "# df['연구내용_T'] = df['요약문_연구내용'].apply(okt.morphs)\n",
        "# df['연구내용_T'] = df['요약문_연구내용'].apply(lambda x: [item for item in x if item not in stop_words])\n",
        "# df['한글키워드_T'] = df['요약문_한글키워드'].apply(okt.morphs)\n",
        "# df['한글키워드_T'] = df['요약문_한글키워드'].apply(lambda x: [item for item in x if item not in stop_words])"
      ],
      "execution_count": null,
      "outputs": []
    },
    {
      "cell_type": "code",
      "metadata": {
        "id": "TkUQr6gq__q8"
      },
      "source": [
        "# test['연구목표_T'] = test['요약문_연구목표'].apply(okt.morphs)\n",
        "# test['연구목표_T'] = test['요약문_연구목표'].apply(lambda x: [item for item in x if item not in stop_words])\n",
        "# test['연구내용_T'] = test['요약문_연구내용'].apply(okt.morphs)\n",
        "# test['연구내용_T'] = test['요약문_연구내용'].apply(lambda x: [item for item in x if item not in stop_words])\n",
        "# test['한글키워드_T'] = test['요약문_한글키워드'].apply(okt.morphs)\n",
        "# test['한글키워드_T'] = test['요약문_한글키워드'].apply(lambda x: [item for item in x if item not in stop_words])"
      ],
      "execution_count": null,
      "outputs": []
    },
    {
      "cell_type": "code",
      "metadata": {
        "id": "KMoEOA8TN4ej"
      },
      "source": [
        "df.head(10)"
      ],
      "execution_count": null,
      "outputs": []
    },
    {
      "cell_type": "code",
      "metadata": {
        "id": "pBBHBvLnN57r"
      },
      "source": [
        "test.head(10)"
      ],
      "execution_count": null,
      "outputs": []
    }
  ]
}