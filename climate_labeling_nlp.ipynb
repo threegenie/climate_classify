{
  "nbformat": 4,
  "nbformat_minor": 0,
  "metadata": {
    "colab": {
      "name": "climate_labeling_nlp.ipynb",
      "provenance": [],
      "machine_shape": "hm",
      "authorship_tag": "ABX9TyPbDj2wp05xHo4QF47DFD/u",
      "include_colab_link": true
    },
    "kernelspec": {
      "name": "python3",
      "display_name": "Python 3"
    },
    "language_info": {
      "name": "python"
    },
    "accelerator": "TPU"
  },
  "cells": [
    {
      "cell_type": "markdown",
      "metadata": {
        "id": "view-in-github",
        "colab_type": "text"
      },
      "source": [
        "<a href=\"https://colab.research.google.com/github/threegenie/climate_classify/blob/main/climate_labeling_nlp.ipynb\" target=\"_parent\"><img src=\"https://colab.research.google.com/assets/colab-badge.svg\" alt=\"Open In Colab\"/></a>"
      ]
    },
    {
      "cell_type": "code",
      "metadata": {
        "id": "8eZEeeFm4TlE"
      },
      "source": [
        "%%capture\n",
        "! pip install konlpy"
      ],
      "execution_count": 1,
      "outputs": []
    },
    {
      "cell_type": "code",
      "metadata": {
        "id": "in77dleh40cd"
      },
      "source": [
        "%%capture\n",
        "!sudo apt-get install -y fonts-nanum\n",
        "!sudo fc-cache -fv\n",
        "!rm ~/.cache/matplotlib -rf"
      ],
      "execution_count": 2,
      "outputs": []
    },
    {
      "cell_type": "code",
      "metadata": {
        "colab": {
          "base_uri": "https://localhost:8080/"
        },
        "id": "35w_X3dT434_",
        "outputId": "f4745576-2325-46a9-ef90-1ba4f6214755"
      },
      "source": [
        "import matplotlib as mpl\n",
        "import matplotlib.pyplot as plt\n",
        "%config InlineBackend.figure_format = 'retina'\n",
        " \n",
        "!apt -qq -y install fonts-nanum\n",
        " \n",
        "import matplotlib.font_manager as fm\n",
        "fontpath = '/usr/share/fonts/truetype/nanum/NanumBarunGothic.ttf'\n",
        "font = fm.FontProperties(fname=fontpath, size=9)\n",
        "plt.rc('font', family='NanumBarunGothic') "
      ],
      "execution_count": 3,
      "outputs": [
        {
          "output_type": "stream",
          "text": [
            "fonts-nanum is already the newest version (20170925-1).\n",
            "0 upgraded, 0 newly installed, 0 to remove and 40 not upgraded.\n"
          ],
          "name": "stdout"
        }
      ]
    },
    {
      "cell_type": "code",
      "metadata": {
        "id": "_ciJjGUx46SL"
      },
      "source": [
        "import pandas as pd\n",
        "import numpy as np\n",
        "import matplotlib.pyplot as plt\n",
        "import seaborn as sns\n",
        "import re\n",
        "import json\n",
        "import os\n",
        "import tqdm\n",
        "import urllib.request\n",
        "from collections import Counter\n",
        "from sklearn.model_selection import train_test_split\n",
        "from tensorflow.keras.preprocessing.text import Tokenizer\n",
        "from tensorflow.keras.preprocessing.sequence import pad_sequences\n",
        "from sklearn.metrics import log_loss, accuracy_score,f1_score\n",
        "import tensorflow as tf\n",
        "from tensorflow.keras.callbacks import EarlyStopping, ModelCheckpoint"
      ],
      "execution_count": 4,
      "outputs": []
    },
    {
      "cell_type": "code",
      "metadata": {
        "id": "Dg2kqOiO47DP"
      },
      "source": [
        "# 오류(SettingWithCopyError 발생)\n",
        "pd.set_option('mode.chained_assignment', 'raise') # SettingWithCopyError\n",
        "\n",
        "# 경고(SettingWithCopyWarning 발생, 기본 값입니다)\n",
        "pd.set_option('mode.chained_assignment', 'warn') # SettingWithCopyWarning\n",
        "\n",
        "# 무시\n",
        "pd.set_option('mode.chained_assignment',  None) # <==== 경고를 끈다"
      ],
      "execution_count": 5,
      "outputs": []
    },
    {
      "cell_type": "markdown",
      "metadata": {
        "id": "w-LgGF-H5xt_"
      },
      "source": [
        "#### 데이터 업로드"
      ]
    },
    {
      "cell_type": "code",
      "metadata": {
        "colab": {
          "base_uri": "https://localhost:8080/"
        },
        "id": "Wz0nizfc5z6S",
        "outputId": "f0dd8f50-0cd5-4193-b3ee-abed670257bd"
      },
      "source": [
        "import os\n",
        "from google.colab import drive\n",
        "\n",
        "drive.mount('/content/drive')\n",
        "df = pd.read_csv('/content/drive/My Drive/open/train.csv')\n",
        "test = pd.read_csv('/content/drive/My Drive/open/test.csv')\n",
        "label = pd.read_csv('/content/drive/My Drive/open/labels_mapping.csv')"
      ],
      "execution_count": 6,
      "outputs": [
        {
          "output_type": "stream",
          "text": [
            "Mounted at /content/drive\n"
          ],
          "name": "stdout"
        }
      ]
    },
    {
      "cell_type": "code",
      "metadata": {
        "colab": {
          "base_uri": "https://localhost:8080/",
          "height": 476
        },
        "id": "9cqCy0tX6Gg8",
        "outputId": "d9186a8a-643c-4c70-e4e9-e34a5ea576f6"
      },
      "source": [
        "df.head()"
      ],
      "execution_count": 7,
      "outputs": [
        {
          "output_type": "execute_result",
          "data": {
            "text/html": [
              "<div>\n",
              "<style scoped>\n",
              "    .dataframe tbody tr th:only-of-type {\n",
              "        vertical-align: middle;\n",
              "    }\n",
              "\n",
              "    .dataframe tbody tr th {\n",
              "        vertical-align: top;\n",
              "    }\n",
              "\n",
              "    .dataframe thead th {\n",
              "        text-align: right;\n",
              "    }\n",
              "</style>\n",
              "<table border=\"1\" class=\"dataframe\">\n",
              "  <thead>\n",
              "    <tr style=\"text-align: right;\">\n",
              "      <th></th>\n",
              "      <th>index</th>\n",
              "      <th>제출년도</th>\n",
              "      <th>사업명</th>\n",
              "      <th>사업_부처명</th>\n",
              "      <th>계속과제여부</th>\n",
              "      <th>내역사업명</th>\n",
              "      <th>과제명</th>\n",
              "      <th>요약문_연구목표</th>\n",
              "      <th>요약문_연구내용</th>\n",
              "      <th>요약문_기대효과</th>\n",
              "      <th>요약문_한글키워드</th>\n",
              "      <th>요약문_영문키워드</th>\n",
              "      <th>label</th>\n",
              "    </tr>\n",
              "  </thead>\n",
              "  <tbody>\n",
              "    <tr>\n",
              "      <th>0</th>\n",
              "      <td>0</td>\n",
              "      <td>2016</td>\n",
              "      <td>농업기초기반연구</td>\n",
              "      <td>농촌진흥청</td>\n",
              "      <td>신규</td>\n",
              "      <td>농산물안전성연구</td>\n",
              "      <td>유전정보를 활용한 새로운 해충 분류군 동정기술 개발</td>\n",
              "      <td>○ 새로운 해충분류군의 동정기술 개발 및 유입확산 추적</td>\n",
              "      <td>(가) 외래 및 돌발해충의 발생조사 및 종 동정\\n\\n\\n    ○ 대상해충 : 최...</td>\n",
              "      <td>○ 새로운 돌발 및 외래해충의 신속, 정확한 동정법 향상\\n\\n\\n○ 돌발 및 외래...</td>\n",
              "      <td>뉴클레오티드 염기서열, 분자마커, 종 동정, 침샘, 전사체</td>\n",
              "      <td>nucleotide sequence, molecular marker, species...</td>\n",
              "      <td>24</td>\n",
              "    </tr>\n",
              "    <tr>\n",
              "      <th>1</th>\n",
              "      <td>1</td>\n",
              "      <td>2019</td>\n",
              "      <td>이공학학술연구기반구축(R&amp;D)</td>\n",
              "      <td>교육부</td>\n",
              "      <td>신규</td>\n",
              "      <td>지역대학우수과학자지원사업(1년~5년)</td>\n",
              "      <td>대장암의 TRAIL 내성 표적 인자 발굴 및 TRAIL 반응 예측 유전자 지도 구축...</td>\n",
              "      <td>최종목표:  TRAIL 감수성 표적 유전자를 발굴하고 내성제어 기전을 연구. 발굴된...</td>\n",
              "      <td>1차년도\\n1) Microarray를 통한 선천적 TRAIL 내성 표적 후보 유전자...</td>\n",
              "      <td>1) TRAIL 내성 특이적 표적분자를 발굴하고, 이를 이용한 TRAIL 효과 증진...</td>\n",
              "      <td>대장암,항암제 내성,세포사멸,유전자발굴</td>\n",
              "      <td>TRAIL,Colorectal cancer,TRAIL resistance,Apopt...</td>\n",
              "      <td>0</td>\n",
              "    </tr>\n",
              "    <tr>\n",
              "      <th>2</th>\n",
              "      <td>2</td>\n",
              "      <td>2016</td>\n",
              "      <td>중소기업기술혁신개발</td>\n",
              "      <td>중소기업청</td>\n",
              "      <td>신규</td>\n",
              "      <td>혁신기업기술개발</td>\n",
              "      <td>비목질계 셀룰로오스 식물자원을 활용한 기능성 부직포 및 고부가가치 뷰티케어 faci...</td>\n",
              "      <td>* 식물계자원 정련 및 최적 신서란 파이버 기초연구 개발\\n\\n\\n* 소비자 및 바...</td>\n",
              "      <td>* 식물계자원 정련 및 최적 신서란 파이버 기초연구 개발\\n\\n\\n- Tencel/...</td>\n",
              "      <td>* 국내 독자적인 비목질계 셀룰로오스 자원의 파이버 및 부직포 제조 등의 기술 확보...</td>\n",
              "      <td>기능성 샐룰로오스 파이버,천연섬유,기능성 부직포,뷰티&amp;amp;케어 제품,미용 솜</td>\n",
              "      <td>functional cellulose fiber,natural fiber,funct...</td>\n",
              "      <td>0</td>\n",
              "    </tr>\n",
              "    <tr>\n",
              "      <th>3</th>\n",
              "      <td>3</td>\n",
              "      <td>2018</td>\n",
              "      <td>창업성장기술개발(R&amp;D)</td>\n",
              "      <td>중소벤처기업부</td>\n",
              "      <td>신규</td>\n",
              "      <td>창업사업화연계과제</td>\n",
              "      <td>소화기 암 진단용 분자영상 형광프로브 개발</td>\n",
              "      <td>#  암특이적 바이오마커 발굴 및 바이오마커에 대한 프로브 개발\\n\\n\\n1) 소화...</td>\n",
              "      <td># 소화기 암 진단용 분자영상 형광프로브 개발\\n\\n\\n- 국소 도포형 소화기 암 ...</td>\n",
              "      <td># 암 진단기술의 차별성: 소화기 암 특이 프로브 개발\\n\\n\\n- 최근 체외진단시...</td>\n",
              "      <td>분자 진단,형광 조영제,프로브,항체,대장암</td>\n",
              "      <td>Molecular diagnosis,Fluorescence,probe,antibod...</td>\n",
              "      <td>0</td>\n",
              "    </tr>\n",
              "    <tr>\n",
              "      <th>4</th>\n",
              "      <td>4</td>\n",
              "      <td>2016</td>\n",
              "      <td>이공학개인기초연구지원</td>\n",
              "      <td>교육부</td>\n",
              "      <td>계속</td>\n",
              "      <td>기본연구지원</td>\n",
              "      <td>위암환자의 항암제반응예측을 위한 BRCA 발현검사</td>\n",
              "      <td>수술이 불가능한 위암환자는 생존기간은 10개월 안팎에 지나지 않고, 항암화학요법에 ...</td>\n",
              "      <td>-In situ hybridization 검사의 정확성을 확인하기 위해 위암세포주 ...</td>\n",
              "      <td>-본 연구는 파라핀보관조직에서 in situ hybridization로 mRNA 및...</td>\n",
              "      <td>BRCA,제자리부합법,조직미세배열,마이크로RNA,위암,항암제반응,젊은 연령/가족성 위암</td>\n",
              "      <td>BRCA,Insituhybridization,tissuemicroarray,micr...</td>\n",
              "      <td>0</td>\n",
              "    </tr>\n",
              "  </tbody>\n",
              "</table>\n",
              "</div>"
            ],
            "text/plain": [
              "   index  제출년도  ...                                          요약문_영문키워드 label\n",
              "0      0  2016  ...  nucleotide sequence, molecular marker, species...    24\n",
              "1      1  2019  ...  TRAIL,Colorectal cancer,TRAIL resistance,Apopt...     0\n",
              "2      2  2016  ...  functional cellulose fiber,natural fiber,funct...     0\n",
              "3      3  2018  ...  Molecular diagnosis,Fluorescence,probe,antibod...     0\n",
              "4      4  2016  ...  BRCA,Insituhybridization,tissuemicroarray,micr...     0\n",
              "\n",
              "[5 rows x 13 columns]"
            ]
          },
          "metadata": {
            "tags": []
          },
          "execution_count": 7
        }
      ]
    },
    {
      "cell_type": "code",
      "metadata": {
        "colab": {
          "base_uri": "https://localhost:8080/",
          "height": 204
        },
        "id": "2gw9um766Htk",
        "outputId": "5fe590aa-ae2a-4a07-bb69-faae8425d53e"
      },
      "source": [
        "label.head()"
      ],
      "execution_count": 8,
      "outputs": [
        {
          "output_type": "execute_result",
          "data": {
            "text/html": [
              "<div>\n",
              "<style scoped>\n",
              "    .dataframe tbody tr th:only-of-type {\n",
              "        vertical-align: middle;\n",
              "    }\n",
              "\n",
              "    .dataframe tbody tr th {\n",
              "        vertical-align: top;\n",
              "    }\n",
              "\n",
              "    .dataframe thead th {\n",
              "        text-align: right;\n",
              "    }\n",
              "</style>\n",
              "<table border=\"1\" class=\"dataframe\">\n",
              "  <thead>\n",
              "    <tr style=\"text-align: right;\">\n",
              "      <th></th>\n",
              "      <th>label</th>\n",
              "      <th>소분류</th>\n",
              "    </tr>\n",
              "  </thead>\n",
              "  <tbody>\n",
              "    <tr>\n",
              "      <th>0</th>\n",
              "      <td>0</td>\n",
              "      <td>00. NaN</td>\n",
              "    </tr>\n",
              "    <tr>\n",
              "      <th>1</th>\n",
              "      <td>1</td>\n",
              "      <td>01. 원자력 발전</td>\n",
              "    </tr>\n",
              "    <tr>\n",
              "      <th>2</th>\n",
              "      <td>2</td>\n",
              "      <td>02. 핵융합 발전</td>\n",
              "    </tr>\n",
              "    <tr>\n",
              "      <th>3</th>\n",
              "      <td>3</td>\n",
              "      <td>03. 청정화력발전·효율화</td>\n",
              "    </tr>\n",
              "    <tr>\n",
              "      <th>4</th>\n",
              "      <td>4</td>\n",
              "      <td>04. 수력</td>\n",
              "    </tr>\n",
              "  </tbody>\n",
              "</table>\n",
              "</div>"
            ],
            "text/plain": [
              "   label             소분류\n",
              "0      0         00. NaN\n",
              "1      1      01. 원자력 발전\n",
              "2      2      02. 핵융합 발전\n",
              "3      3  03. 청정화력발전·효율화\n",
              "4      4          04. 수력"
            ]
          },
          "metadata": {
            "tags": []
          },
          "execution_count": 8
        }
      ]
    },
    {
      "cell_type": "code",
      "metadata": {
        "id": "_LEZ8wUaA9OF"
      },
      "source": [
        "# 결측값 처리\n",
        "df = df.fillna('내용없음')\n",
        "test = test.fillna('내용없음')"
      ],
      "execution_count": 9,
      "outputs": []
    },
    {
      "cell_type": "code",
      "metadata": {
        "colab": {
          "base_uri": "https://localhost:8080/"
        },
        "id": "kRlsvp7DBLdL",
        "outputId": "c1ed10a9-2c9c-4bbb-d024-35ae78cb16a4"
      },
      "source": [
        "df.info()"
      ],
      "execution_count": 10,
      "outputs": [
        {
          "output_type": "stream",
          "text": [
            "<class 'pandas.core.frame.DataFrame'>\n",
            "RangeIndex: 174304 entries, 0 to 174303\n",
            "Data columns (total 13 columns):\n",
            " #   Column     Non-Null Count   Dtype \n",
            "---  ------     --------------   ----- \n",
            " 0   index      174304 non-null  int64 \n",
            " 1   제출년도       174304 non-null  int64 \n",
            " 2   사업명        174304 non-null  object\n",
            " 3   사업_부처명     174304 non-null  object\n",
            " 4   계속과제여부     174304 non-null  object\n",
            " 5   내역사업명      174304 non-null  object\n",
            " 6   과제명        174304 non-null  object\n",
            " 7   요약문_연구목표   174304 non-null  object\n",
            " 8   요약문_연구내용   174304 non-null  object\n",
            " 9   요약문_기대효과   174304 non-null  object\n",
            " 10  요약문_한글키워드  174304 non-null  object\n",
            " 11  요약문_영문키워드  174304 non-null  object\n",
            " 12  label      174304 non-null  int64 \n",
            "dtypes: int64(3), object(10)\n",
            "memory usage: 17.3+ MB\n"
          ],
          "name": "stdout"
        }
      ]
    },
    {
      "cell_type": "code",
      "metadata": {
        "colab": {
          "base_uri": "https://localhost:8080/"
        },
        "id": "_g7P44q7BQNT",
        "outputId": "bd96b7e3-67fb-42d4-85bd-e11524a59467"
      },
      "source": [
        "test.info()"
      ],
      "execution_count": 11,
      "outputs": [
        {
          "output_type": "stream",
          "text": [
            "<class 'pandas.core.frame.DataFrame'>\n",
            "RangeIndex: 43576 entries, 0 to 43575\n",
            "Data columns (total 12 columns):\n",
            " #   Column     Non-Null Count  Dtype \n",
            "---  ------     --------------  ----- \n",
            " 0   index      43576 non-null  int64 \n",
            " 1   제출년도       43576 non-null  int64 \n",
            " 2   사업명        43576 non-null  object\n",
            " 3   사업_부처명     43576 non-null  object\n",
            " 4   계속과제여부     43576 non-null  object\n",
            " 5   내역사업명      43576 non-null  object\n",
            " 6   과제명        43576 non-null  object\n",
            " 7   요약문_연구목표   43576 non-null  object\n",
            " 8   요약문_연구내용   43576 non-null  object\n",
            " 9   요약문_기대효과   43576 non-null  object\n",
            " 10  요약문_한글키워드  43576 non-null  object\n",
            " 11  요약문_영문키워드  43576 non-null  object\n",
            "dtypes: int64(2), object(10)\n",
            "memory usage: 4.0+ MB\n"
          ],
          "name": "stdout"
        }
      ]
    },
    {
      "cell_type": "markdown",
      "metadata": {
        "id": "h12HHKDfBTTh"
      },
      "source": [
        "#### 필요한 특성만 남기기"
      ]
    },
    {
      "cell_type": "code",
      "metadata": {
        "id": "bBEUvqIr-zl-"
      },
      "source": [
        "df = df[['index', '요약문_연구목표','요약문_연구내용','요약문_한글키워드']]"
      ],
      "execution_count": 12,
      "outputs": []
    },
    {
      "cell_type": "code",
      "metadata": {
        "id": "OPWRRewf_JjR"
      },
      "source": [
        "test = test[['index', '요약문_연구목표','요약문_연구내용','요약문_한글키워드']]"
      ],
      "execution_count": 13,
      "outputs": []
    },
    {
      "cell_type": "markdown",
      "metadata": {
        "id": "lX-A5PaW9m_n"
      },
      "source": [
        "#### 데이터 정제 - 훈련, 테스트셋에 모두 적용 -> 정규표현식 사용하여 한글 제외 모두 제거"
      ]
    },
    {
      "cell_type": "code",
      "metadata": {
        "id": "xqZDVJjS9v66"
      },
      "source": [
        "df['요약문_연구목표'] = df['요약문_연구목표'].str.replace(\"[^ㄱ-ㅎㅏ-ㅣ가-힣 ]\",\"\")\n",
        "df['요약문_연구목표'].replace('', np.nan, inplace=True)\n",
        "\n",
        "df['요약문_연구내용'] = df['요약문_연구내용'].str.replace(\"[^ㄱ-ㅎㅏ-ㅣ가-힣 ]\",\"\")\n",
        "df['요약문_연구내용'].replace('', np.nan, inplace=True)\n",
        "\n",
        "df['요약문_한글키워드'] = df['요약문_한글키워드'].str.replace(\"[^ㄱ-ㅎㅏ-ㅣ가-힣 ]\",\"\")\n",
        "df['요약문_한글키워드'].replace('', np.nan, inplace=True)"
      ],
      "execution_count": 14,
      "outputs": []
    },
    {
      "cell_type": "code",
      "metadata": {
        "id": "lV43aj8t-tc8"
      },
      "source": [
        "test['요약문_연구목표'] = test['요약문_연구목표'].str.replace(\"[^ㄱ-ㅎㅏ-ㅣ가-힣 ]\",\"\")\n",
        "test['요약문_연구목표'].replace('', np.nan, inplace=True)\n",
        "\n",
        "test['요약문_연구내용'] = test['요약문_연구내용'].str.replace(\"[^ㄱ-ㅎㅏ-ㅣ가-힣 ]\",\"\")\n",
        "test['요약문_연구내용'].replace('', np.nan, inplace=True)\n",
        "\n",
        "test['요약문_한글키워드'] = test['요약문_한글키워드'].str.replace(\"[^ㄱ-ㅎㅏ-ㅣ가-힣 ]\",\"\")\n",
        "test['요약문_한글키워드'].replace('', np.nan, inplace=True)"
      ],
      "execution_count": 15,
      "outputs": []
    },
    {
      "cell_type": "code",
      "metadata": {
        "colab": {
          "base_uri": "https://localhost:8080/",
          "height": 204
        },
        "id": "b8w33ORx_Uxf",
        "outputId": "5fbc7e1e-8922-4abd-c29c-5ef082cc73d0"
      },
      "source": [
        "df.head()"
      ],
      "execution_count": 16,
      "outputs": [
        {
          "output_type": "execute_result",
          "data": {
            "text/html": [
              "<div>\n",
              "<style scoped>\n",
              "    .dataframe tbody tr th:only-of-type {\n",
              "        vertical-align: middle;\n",
              "    }\n",
              "\n",
              "    .dataframe tbody tr th {\n",
              "        vertical-align: top;\n",
              "    }\n",
              "\n",
              "    .dataframe thead th {\n",
              "        text-align: right;\n",
              "    }\n",
              "</style>\n",
              "<table border=\"1\" class=\"dataframe\">\n",
              "  <thead>\n",
              "    <tr style=\"text-align: right;\">\n",
              "      <th></th>\n",
              "      <th>index</th>\n",
              "      <th>요약문_연구목표</th>\n",
              "      <th>요약문_연구내용</th>\n",
              "      <th>요약문_한글키워드</th>\n",
              "    </tr>\n",
              "  </thead>\n",
              "  <tbody>\n",
              "    <tr>\n",
              "      <th>0</th>\n",
              "      <td>0</td>\n",
              "      <td>새로운 해충분류군의 동정기술 개발 및 유입확산 추적</td>\n",
              "      <td>가 외래 및 돌발해충의 발생조사 및 종 동정     대상해충  최근 새롭게 발견된 ...</td>\n",
              "      <td>뉴클레오티드 염기서열 분자마커 종 동정 침샘 전사체</td>\n",
              "    </tr>\n",
              "    <tr>\n",
              "      <th>1</th>\n",
              "      <td>1</td>\n",
              "      <td>최종목표   감수성 표적 유전자를 발굴하고 내성제어 기전을 연구 발굴된 유전자를 통...</td>\n",
              "      <td>차년도 를 통한 선천적  내성 표적 후보 유전자 선별 대장암 환자조직을 이용하여 후...</td>\n",
              "      <td>대장암항암제 내성세포사멸유전자발굴</td>\n",
              "    </tr>\n",
              "    <tr>\n",
              "      <th>2</th>\n",
              "      <td>2</td>\n",
              "      <td>식물계자원 정련 및 최적 신서란 파이버 기초연구 개발 소비자 및 바이어들의 피드백...</td>\n",
              "      <td>식물계자원 정련 및 최적 신서란 파이버 기초연구 개발  파이버 기초 물성 연구 및...</td>\n",
              "      <td>기능성 샐룰로오스 파이버천연섬유기능성 부직포뷰티케어 제품미용 솜</td>\n",
              "    </tr>\n",
              "    <tr>\n",
              "      <th>3</th>\n",
              "      <td>3</td>\n",
              "      <td>암특이적 바이오마커 발굴 및 바이오마커에 대한 프로브 개발 소화기 암 진단용 분...</td>\n",
              "      <td>소화기 암 진단용 분자영상 형광프로브 개발 국소 도포형 소화기 암 분자 영상 프로...</td>\n",
              "      <td>분자 진단형광 조영제프로브항체대장암</td>\n",
              "    </tr>\n",
              "    <tr>\n",
              "      <th>4</th>\n",
              "      <td>4</td>\n",
              "      <td>수술이 불가능한 위암환자는 생존기간은 개월 안팎에 지나지 않고 항암화학요법에 의한 ...</td>\n",
              "      <td>검사의 정확성을 확인하기 위해 위암세포주 를 제작하고   발현을    결과를 ...</td>\n",
              "      <td>제자리부합법조직미세배열마이크로위암항암제반응젊은 연령가족성 위암</td>\n",
              "    </tr>\n",
              "  </tbody>\n",
              "</table>\n",
              "</div>"
            ],
            "text/plain": [
              "   index  ...                            요약문_한글키워드\n",
              "0      0  ...         뉴클레오티드 염기서열 분자마커 종 동정 침샘 전사체\n",
              "1      1  ...                   대장암항암제 내성세포사멸유전자발굴\n",
              "2      2  ...  기능성 샐룰로오스 파이버천연섬유기능성 부직포뷰티케어 제품미용 솜\n",
              "3      3  ...                  분자 진단형광 조영제프로브항체대장암\n",
              "4      4  ...   제자리부합법조직미세배열마이크로위암항암제반응젊은 연령가족성 위암\n",
              "\n",
              "[5 rows x 4 columns]"
            ]
          },
          "metadata": {
            "tags": []
          },
          "execution_count": 16
        }
      ]
    },
    {
      "cell_type": "code",
      "metadata": {
        "colab": {
          "base_uri": "https://localhost:8080/",
          "height": 204
        },
        "id": "TouCz5ZD_WT6",
        "outputId": "c708524d-496e-4d08-9c90-7a81e1021e60"
      },
      "source": [
        "test.head()"
      ],
      "execution_count": 17,
      "outputs": [
        {
          "output_type": "execute_result",
          "data": {
            "text/html": [
              "<div>\n",
              "<style scoped>\n",
              "    .dataframe tbody tr th:only-of-type {\n",
              "        vertical-align: middle;\n",
              "    }\n",
              "\n",
              "    .dataframe tbody tr th {\n",
              "        vertical-align: top;\n",
              "    }\n",
              "\n",
              "    .dataframe thead th {\n",
              "        text-align: right;\n",
              "    }\n",
              "</style>\n",
              "<table border=\"1\" class=\"dataframe\">\n",
              "  <thead>\n",
              "    <tr style=\"text-align: right;\">\n",
              "      <th></th>\n",
              "      <th>index</th>\n",
              "      <th>요약문_연구목표</th>\n",
              "      <th>요약문_연구내용</th>\n",
              "      <th>요약문_한글키워드</th>\n",
              "    </tr>\n",
              "  </thead>\n",
              "  <tbody>\n",
              "    <tr>\n",
              "      <th>0</th>\n",
              "      <td>174304</td>\n",
              "      <td>차체 점용접부의 품질 검사를 위한 채널 무선 기반  탐촉자 개발 모바일 단말기를 ...</td>\n",
              "      <td>차년도     개발 탐촉 시스템의 성능 평가 위한 표준 시편 제작 시스템 개발  ...</td>\n",
              "      <td>마찰교반점용접 비파괴 검사 초음파 탐상 씨 스캔 용접 품질 평가</td>\n",
              "    </tr>\n",
              "    <tr>\n",
              "      <th>1</th>\n",
              "      <td>174305</td>\n",
              "      <td>자연계에는 입자의 개수가 아주 큰 다양한 다입자계가 존재한다  이런 다입자계의 효율...</td>\n",
              "      <td>연구과제 무한입자계의 동역학  작용소 방정식에 대한 연구   하이젠베르크 그림에서의...</td>\n",
              "      <td>다체계 방정식동역학의 안정성양자역학고전역학평균장 극한고전극한비상대론적 극한</td>\n",
              "    </tr>\n",
              "    <tr>\n",
              "      <th>2</th>\n",
              "      <td>174306</td>\n",
              "      <td>저출생체중아는 정상 체중 출생아에 비하여 운동 정신 행동 및 정서발달장애가 빈번하게...</td>\n",
              "      <td>본 연구는 퇴원 후 저출생체중아의 퇴원 후 추후관리 프로그램 중 가정방문 모델과 가...</td>\n",
              "      <td>저출생체중아추후관리조기개입자조모임가정방문</td>\n",
              "    </tr>\n",
              "    <tr>\n",
              "      <th>3</th>\n",
              "      <td>174307</td>\n",
              "      <td>최근 초정밀 공작기계 시장의 트렌드를 살펴보면 다음과 같다 자동차 항공 의료 광학 ...</td>\n",
              "      <td>의 가공정밀도면조도 구현  국내에서는 연삭기를 제외하고 머시닝센터 등의 공작기계에...</td>\n",
              "      <td>초정밀가공폴리싱 가공마이크로경면가공난삭재가공</td>\n",
              "    </tr>\n",
              "    <tr>\n",
              "      <th>4</th>\n",
              "      <td>174308</td>\n",
              "      <td>본 연구의 최종목표는 다결정 금속재료의 미세조직구조를 고려한 확률론적 응력부식균열 ...</td>\n",
              "      <td>총 연구기간은 년으로 연차별 연구내용 및 범위는 다음과 같다   차년도     단결...</td>\n",
              "      <td>결정구조응력부식균열확률론적모델</td>\n",
              "    </tr>\n",
              "  </tbody>\n",
              "</table>\n",
              "</div>"
            ],
            "text/plain": [
              "    index  ...                                  요약문_한글키워드\n",
              "0  174304  ...        마찰교반점용접 비파괴 검사 초음파 탐상 씨 스캔 용접 품질 평가\n",
              "1  174305  ...  다체계 방정식동역학의 안정성양자역학고전역학평균장 극한고전극한비상대론적 극한\n",
              "2  174306  ...                     저출생체중아추후관리조기개입자조모임가정방문\n",
              "3  174307  ...                   초정밀가공폴리싱 가공마이크로경면가공난삭재가공\n",
              "4  174308  ...                           결정구조응력부식균열확률론적모델\n",
              "\n",
              "[5 rows x 4 columns]"
            ]
          },
          "metadata": {
            "tags": []
          },
          "execution_count": 17
        }
      ]
    },
    {
      "cell_type": "markdown",
      "metadata": {
        "id": "gptqQB2k_ZZA"
      },
      "source": [
        "#### 토큰화 "
      ]
    },
    {
      "cell_type": "code",
      "metadata": {
        "id": "7Zx9gutK_bL3"
      },
      "source": [
        "from konlpy.tag import Okt\n",
        "okt = Okt()"
      ],
      "execution_count": 18,
      "outputs": []
    },
    {
      "cell_type": "code",
      "metadata": {
        "id": "qodQy8GjIn8H"
      },
      "source": [
        "from konlpy.tag import Komoran\n",
        "komoran = Komoran()"
      ],
      "execution_count": 19,
      "outputs": []
    },
    {
      "cell_type": "code",
      "metadata": {
        "id": "4GKWw45HAaQT"
      },
      "source": [
        "stop_words=['은','는','이','가', '하','아','것','들','의','있','되','수','보','주','등','한']"
      ],
      "execution_count": 20,
      "outputs": []
    },
    {
      "cell_type": "code",
      "metadata": {
        "id": "ypC3WiEVE5TD"
      },
      "source": [
        "df['연구목표_T'] = None\n",
        "df['연구내용_T'] = None\n",
        "df['한글키워드_T'] = None"
      ],
      "execution_count": 21,
      "outputs": []
    },
    {
      "cell_type": "code",
      "metadata": {
        "id": "n1vgRBmwM8JH"
      },
      "source": [
        "test['연구목표_T'] = None\n",
        "test['연구내용_T'] = None\n",
        "test['한글키워드_T'] = None"
      ],
      "execution_count": 22,
      "outputs": []
    },
    {
      "cell_type": "code",
      "metadata": {
        "id": "BhITR8xdMw_5"
      },
      "source": [
        "def preprocessing(text, okt, remove_stopwords=False, stop_words=[]):\n",
        "    word_text=okt.morphs(text, stem=True)\n",
        "    if remove_stopwords:\n",
        "        word_review=[token for token in word_text if not token in stop_words]\n",
        "    return word_review"
      ],
      "execution_count": 23,
      "outputs": []
    },
    {
      "cell_type": "code",
      "metadata": {
        "colab": {
          "base_uri": "https://localhost:8080/"
        },
        "id": "A5WO0PQnM4Cl",
        "outputId": "260189dd-5325-4512-cdd0-fada748dba25"
      },
      "source": [
        "for text in tqdm.tqdm(df['요약문_연구목표']):\n",
        "    try:\n",
        "        df['연구목표_T'].append(preprocessing(text, okt, remove_stopwords=True, stop_words=stop_words))\n",
        "    except:\n",
        "        df['연구목표_T'].append([])"
      ],
      "execution_count": null,
      "outputs": [
        {
          "output_type": "stream",
          "text": [
            " 39%|███▉      | 68657/174304 [17:51<25:38, 68.65it/s]"
          ],
          "name": "stderr"
        }
      ]
    },
    {
      "cell_type": "code",
      "metadata": {
        "id": "n7bh1oNgNsEj"
      },
      "source": [
        "for text in tqdm.tqdm(df['요약문_연구내용']):\n",
        "    try:\n",
        "        df['연구내용_T'].append(preprocessing(text, okt, remove_stopwords=True, stop_words=stop_words))\n",
        "    except:\n",
        "        df['연구내용_T'].append([])"
      ],
      "execution_count": null,
      "outputs": []
    },
    {
      "cell_type": "code",
      "metadata": {
        "id": "3wi3ddGdNuvf"
      },
      "source": [
        "for text in tqdm.tqdm(df['요약문_한글키워드']):\n",
        "    try:\n",
        "        df['한글키워드_T'].append(preprocessing(text, okt, remove_stopwords=True, stop_words=stop_words))\n",
        "    except:\n",
        "        df['한글키워드_T'].append([])"
      ],
      "execution_count": null,
      "outputs": []
    },
    {
      "cell_type": "code",
      "metadata": {
        "id": "kefd4qobNyoj"
      },
      "source": [
        "for text in tqdm.tqdm(test['요약문_연구목표']):\n",
        "    try:\n",
        "        test['연구목표_T'].append(preprocessing(text, okt, remove_stopwords=True, stop_words=stop_words))\n",
        "    except:\n",
        "        test['연구목표_T'].append([])"
      ],
      "execution_count": null,
      "outputs": []
    },
    {
      "cell_type": "code",
      "metadata": {
        "id": "UXVB0sjNNyok"
      },
      "source": [
        "for text in tqdm.tqdm(test['요약문_연구내용']):\n",
        "    try:\n",
        "        test['연구내용_T'].append(preprocessing(text, okt, remove_stopwords=True, stop_words=stop_words))\n",
        "    except:\n",
        "        test['연구내용_T'].append([])"
      ],
      "execution_count": null,
      "outputs": []
    },
    {
      "cell_type": "code",
      "metadata": {
        "id": "gcSYrJUKNyok"
      },
      "source": [
        "for text in tqdm.tqdm(test['요약문_한글키워드']):\n",
        "    try:\n",
        "        test['한글키워드_T'].append(preprocessing(text, okt, remove_stopwords=True, stop_words=stop_words))\n",
        "    except:\n",
        "        test['한글키워드_T'].append([])"
      ],
      "execution_count": null,
      "outputs": []
    },
    {
      "cell_type": "code",
      "metadata": {
        "id": "FtgOgfSR_fE7"
      },
      "source": [
        "# df['연구목표_T'] = df['요약문_연구목표'].apply(okt.morphs)\n",
        "# df['연구목표_T'] = df['요약문_연구목표'].apply(lambda x: [item for item in x if item not in stop_words])\n",
        "# df['연구내용_T'] = df['요약문_연구내용'].apply(okt.morphs)\n",
        "# df['연구내용_T'] = df['요약문_연구내용'].apply(lambda x: [item for item in x if item not in stop_words])\n",
        "# df['한글키워드_T'] = df['요약문_한글키워드'].apply(okt.morphs)\n",
        "# df['한글키워드_T'] = df['요약문_한글키워드'].apply(lambda x: [item for item in x if item not in stop_words])"
      ],
      "execution_count": null,
      "outputs": []
    },
    {
      "cell_type": "code",
      "metadata": {
        "id": "TkUQr6gq__q8"
      },
      "source": [
        "# test['연구목표_T'] = test['요약문_연구목표'].apply(okt.morphs)\n",
        "# test['연구목표_T'] = test['요약문_연구목표'].apply(lambda x: [item for item in x if item not in stop_words])\n",
        "# test['연구내용_T'] = test['요약문_연구내용'].apply(okt.morphs)\n",
        "# test['연구내용_T'] = test['요약문_연구내용'].apply(lambda x: [item for item in x if item not in stop_words])\n",
        "# test['한글키워드_T'] = test['요약문_한글키워드'].apply(okt.morphs)\n",
        "# test['한글키워드_T'] = test['요약문_한글키워드'].apply(lambda x: [item for item in x if item not in stop_words])"
      ],
      "execution_count": null,
      "outputs": []
    },
    {
      "cell_type": "code",
      "metadata": {
        "id": "KMoEOA8TN4ej"
      },
      "source": [
        "df.head(10)"
      ],
      "execution_count": null,
      "outputs": []
    },
    {
      "cell_type": "code",
      "metadata": {
        "id": "pBBHBvLnN57r"
      },
      "source": [
        "test.head(10)"
      ],
      "execution_count": null,
      "outputs": []
    }
  ]
}