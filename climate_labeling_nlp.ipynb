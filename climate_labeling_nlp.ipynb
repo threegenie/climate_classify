{
  "nbformat": 4,
  "nbformat_minor": 0,
  "metadata": {
    "colab": {
      "name": "climate_labeling_nlp.ipynb",
      "provenance": [],
      "authorship_tag": "ABX9TyOPFNjDdJrBK3skVMAUm5aM",
      "include_colab_link": true
    },
    "kernelspec": {
      "name": "python3",
      "display_name": "Python 3"
    },
    "language_info": {
      "name": "python"
    },
    "accelerator": "GPU"
  },
  "cells": [
    {
      "cell_type": "markdown",
      "metadata": {
        "id": "view-in-github",
        "colab_type": "text"
      },
      "source": [
        "<a href=\"https://colab.research.google.com/github/threegenie/climate_classify/blob/main/climate_labeling_nlp.ipynb\" target=\"_parent\"><img src=\"https://colab.research.google.com/assets/colab-badge.svg\" alt=\"Open In Colab\"/></a>"
      ]
    },
    {
      "cell_type": "code",
      "metadata": {
        "id": "8eZEeeFm4TlE"
      },
      "source": [
        "%%capture\n",
        "! pip install konlpy"
      ],
      "execution_count": 1,
      "outputs": []
    },
    {
      "cell_type": "code",
      "metadata": {
        "id": "in77dleh40cd"
      },
      "source": [
        "%%capture\n",
        "!sudo apt-get install -y fonts-nanum\n",
        "!sudo fc-cache -fv\n",
        "!rm ~/.cache/matplotlib -rf"
      ],
      "execution_count": 2,
      "outputs": []
    },
    {
      "cell_type": "code",
      "metadata": {
        "colab": {
          "base_uri": "https://localhost:8080/"
        },
        "id": "35w_X3dT434_",
        "outputId": "bce2b430-f928-4433-b763-8b99e0fa1561"
      },
      "source": [
        "import matplotlib as mpl\n",
        "import matplotlib.pyplot as plt\n",
        "%config InlineBackend.figure_format = 'retina'\n",
        " \n",
        "!apt -qq -y install fonts-nanum\n",
        " \n",
        "import matplotlib.font_manager as fm\n",
        "fontpath = '/usr/share/fonts/truetype/nanum/NanumBarunGothic.ttf'\n",
        "font = fm.FontProperties(fname=fontpath, size=9)\n",
        "plt.rc('font', family='NanumBarunGothic') "
      ],
      "execution_count": 3,
      "outputs": [
        {
          "output_type": "stream",
          "text": [
            "fonts-nanum is already the newest version (20170925-1).\n",
            "0 upgraded, 0 newly installed, 0 to remove and 40 not upgraded.\n"
          ],
          "name": "stdout"
        }
      ]
    },
    {
      "cell_type": "code",
      "metadata": {
        "id": "_ciJjGUx46SL"
      },
      "source": [
        "import pandas as pd\n",
        "import numpy as np\n",
        "import matplotlib.pyplot as plt\n",
        "import seaborn as sns\n",
        "import urllib.request\n",
        "from collections import Counter\n",
        "from sklearn.model_selection import train_test_split\n",
        "from tensorflow.keras.preprocessing.text import Tokenizer\n",
        "from tensorflow.keras.preprocessing.sequence import pad_sequences"
      ],
      "execution_count": 4,
      "outputs": []
    },
    {
      "cell_type": "code",
      "metadata": {
        "id": "Dg2kqOiO47DP"
      },
      "source": [
        "# 오류(SettingWithCopyError 발생)\n",
        "pd.set_option('mode.chained_assignment', 'raise') # SettingWithCopyError\n",
        "\n",
        "# 경고(SettingWithCopyWarning 발생, 기본 값입니다)\n",
        "pd.set_option('mode.chained_assignment', 'warn') # SettingWithCopyWarning\n",
        "\n",
        "# 무시\n",
        "pd.set_option('mode.chained_assignment',  None) # <==== 경고를 끈다"
      ],
      "execution_count": 5,
      "outputs": []
    },
    {
      "cell_type": "markdown",
      "metadata": {
        "id": "w-LgGF-H5xt_"
      },
      "source": [
        "#### 데이터 업로드"
      ]
    },
    {
      "cell_type": "code",
      "metadata": {
        "colab": {
          "base_uri": "https://localhost:8080/"
        },
        "id": "Wz0nizfc5z6S",
        "outputId": "479a153a-7375-46ed-b476-3bf15b199135"
      },
      "source": [
        "import os\n",
        "from google.colab import drive\n",
        "\n",
        "drive.mount('/content/drive')\n",
        "df = pd.read_csv('/content/drive/My Drive/open/train.csv')\n",
        "test = pd.read_csv('/content/drive/My Drive/open/test.csv')\n",
        "label = pd.read_csv('/content/drive/My Drive/open/labels_mapping.csv')"
      ],
      "execution_count": null,
      "outputs": [
        {
          "output_type": "stream",
          "text": [
            "Drive already mounted at /content/drive; to attempt to forcibly remount, call drive.mount(\"/content/drive\", force_remount=True).\n"
          ],
          "name": "stdout"
        }
      ]
    },
    {
      "cell_type": "code",
      "metadata": {
        "id": "9cqCy0tX6Gg8"
      },
      "source": [
        "df.head()"
      ],
      "execution_count": null,
      "outputs": []
    },
    {
      "cell_type": "code",
      "metadata": {
        "id": "2gw9um766Htk"
      },
      "source": [
        "label.head()"
      ],
      "execution_count": null,
      "outputs": []
    },
    {
      "cell_type": "code",
      "metadata": {
        "id": "_LEZ8wUaA9OF"
      },
      "source": [
        "# 결측값 처리\n",
        "df = df.fillna('내용없음')\n",
        "test = test.fillna('내용없음')"
      ],
      "execution_count": null,
      "outputs": []
    },
    {
      "cell_type": "code",
      "metadata": {
        "id": "kRlsvp7DBLdL"
      },
      "source": [
        "df.info()"
      ],
      "execution_count": null,
      "outputs": []
    },
    {
      "cell_type": "code",
      "metadata": {
        "id": "_g7P44q7BQNT"
      },
      "source": [
        "test.info()"
      ],
      "execution_count": null,
      "outputs": []
    },
    {
      "cell_type": "markdown",
      "metadata": {
        "id": "h12HHKDfBTTh"
      },
      "source": [
        "#### 필요한 특성만 남기기"
      ]
    },
    {
      "cell_type": "code",
      "metadata": {
        "id": "bBEUvqIr-zl-"
      },
      "source": [
        "df = df[['index', '요약문_연구목표','요약문_연구내용','요약문_한글키워드']]"
      ],
      "execution_count": null,
      "outputs": []
    },
    {
      "cell_type": "code",
      "metadata": {
        "id": "OPWRRewf_JjR"
      },
      "source": [
        "test = test[['index', '요약문_연구목표','요약문_연구내용','요약문_한글키워드']]"
      ],
      "execution_count": null,
      "outputs": []
    },
    {
      "cell_type": "code",
      "metadata": {
        "id": "He6jXIcC9h69"
      },
      "source": [
        "test.head()"
      ],
      "execution_count": null,
      "outputs": []
    },
    {
      "cell_type": "markdown",
      "metadata": {
        "id": "lX-A5PaW9m_n"
      },
      "source": [
        "#### 데이터 정제 - 훈련, 테스트셋에 모두 적용 -> 정규표현식 사용하여 한글 제외 모두 제거"
      ]
    },
    {
      "cell_type": "code",
      "metadata": {
        "id": "xqZDVJjS9v66"
      },
      "source": [
        "df['요약문_연구목표'] = df['요약문_연구목표'].str.replace(\"[^ㄱ-ㅎㅏ-ㅣ가-힣 ]\",\"\")\n",
        "df['요약문_연구목표'].replace('', np.nan, inplace=True)\n",
        "\n",
        "df['요약문_연구내용'] = df['요약문_연구내용'].str.replace(\"[^ㄱ-ㅎㅏ-ㅣ가-힣 ]\",\"\")\n",
        "df['요약문_연구내용'].replace('', np.nan, inplace=True)\n",
        "\n",
        "df['요약문_한글키워드'] = df['요약문_한글키워드'].str.replace(\"[^ㄱ-ㅎㅏ-ㅣ가-힣 ]\",\"\")\n",
        "df['요약문_한글키워드'].replace('', np.nan, inplace=True)"
      ],
      "execution_count": null,
      "outputs": []
    },
    {
      "cell_type": "code",
      "metadata": {
        "id": "lV43aj8t-tc8"
      },
      "source": [
        "test['요약문_연구목표'] = test['요약문_연구목표'].str.replace(\"[^ㄱ-ㅎㅏ-ㅣ가-힣 ]\",\"\")\n",
        "test['요약문_연구목표'].replace('', np.nan, inplace=True)\n",
        "\n",
        "test['요약문_연구내용'] = test['요약문_연구내용'].str.replace(\"[^ㄱ-ㅎㅏ-ㅣ가-힣 ]\",\"\")\n",
        "test['요약문_연구내용'].replace('', np.nan, inplace=True)\n",
        "\n",
        "test['요약문_한글키워드'] = test['요약문_한글키워드'].str.replace(\"[^ㄱ-ㅎㅏ-ㅣ가-힣 ]\",\"\")\n",
        "test['요약문_한글키워드'].replace('', np.nan, inplace=True)"
      ],
      "execution_count": null,
      "outputs": []
    },
    {
      "cell_type": "code",
      "metadata": {
        "id": "b8w33ORx_Uxf"
      },
      "source": [
        "df.head()"
      ],
      "execution_count": null,
      "outputs": []
    },
    {
      "cell_type": "code",
      "metadata": {
        "id": "TouCz5ZD_WT6"
      },
      "source": [
        "test.head()"
      ],
      "execution_count": null,
      "outputs": []
    },
    {
      "cell_type": "markdown",
      "metadata": {
        "id": "gptqQB2k_ZZA"
      },
      "source": [
        "#### 토큰화 "
      ]
    },
    {
      "cell_type": "code",
      "metadata": {
        "id": "7Zx9gutK_bL3"
      },
      "source": [
        "from konlpy.tag import Okt\n",
        "okt = Okt()"
      ],
      "execution_count": null,
      "outputs": []
    },
    {
      "cell_type": "code",
      "metadata": {
        "id": "4GKWw45HAaQT"
      },
      "source": [
        "stop_words=['은','는','이','가', '하','아','것','들','의','있','되','수','보','주','등','한']"
      ],
      "execution_count": null,
      "outputs": []
    },
    {
      "cell_type": "code",
      "metadata": {
        "id": "FtgOgfSR_fE7"
      },
      "source": [
        "df['연구목표_T'] = df['요약문_연구목표'].apply(okt.morphs)\n",
        "df['연구목표_T'] = df['요약문_연구목표'].apply(lambda x: [item for item in x if item not in stop_words])\n",
        "df['연구내용_T'] = df['요약문_연구내용'].apply(okt.morphs)\n",
        "df['연구내용_T'] = df['요약문_연구내용'].apply(lambda x: [item for item in x if item not in stop_words])\n",
        "df['한글키워드_T'] = df['요약문_한글키워드'].apply(okt.morphs)\n",
        "df['한글키워드_T'] = df['요약문_한글키워드'].apply(lambda x: [item for item in x if item not in stop_words])"
      ],
      "execution_count": null,
      "outputs": []
    },
    {
      "cell_type": "code",
      "metadata": {
        "id": "TkUQr6gq__q8"
      },
      "source": [
        "test['연구목표_T'] = test['요약문_연구목표'].apply(okt.morphs)\n",
        "test['연구목표_T'] = test['요약문_연구목표'].apply(lambda x: [item for item in x if item not in stop_words])\n",
        "test['연구내용_T'] = test['요약문_연구내용'].apply(okt.morphs)\n",
        "test['연구내용_T'] = test['요약문_연구내용'].apply(lambda x: [item for item in x if item not in stop_words])\n",
        "test['한글키워드_T'] = test['요약문_한글키워드'].apply(okt.morphs)\n",
        "test['한글키워드_T'] = test['요약문_한글키워드'].apply(lambda x: [item for item in x if item not in stop_words])"
      ],
      "execution_count": null,
      "outputs": []
    }
  ]
}